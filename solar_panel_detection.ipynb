{
 "cells": [
  {
   "cell_type": "markdown",
   "metadata": {},
   "source": [
    "# Solar Panel Detection from Satellite Images\n",
    "This notebook demonstrates how to detect solar panels in satellite images using deep learning."
   ]
  },
  {
   "cell_type": "code",
   "execution_count": null,
   "metadata": {},
   "outputs": [],
   "source": [
    "# Install required packages\n",
    "!pip install tensorflow opencv-python-headless numpy matplotlib"
   ]
  },
  {
   "cell_type": "code",
   "execution_count": null,
   "metadata": {},
   "outputs": [],
   "source": [
    "import tensorflow as tf\n",
    "import cv2\n",
    "import numpy as np\n",
    "import matplotlib.pyplot as plt\n",
    "from tensorflow.keras.applications import ResNet50\n",
    "from tensorflow.keras.layers import Dense, GlobalAveragePooling2D\n",
    "from tensorflow.keras.models import Model\n",
    "from google.colab import files"
   ]
  },
  {
   "cell_type": "code",
   "execution_count": null,
   "metadata": {},
   "outputs": [],
   "source": [
    "def create_model():\n",
    "    # Use ResNet50 as base model\n",
    "    base_model = ResNet50(weights='imagenet', include_top=False, input_shape=(224, 224, 3))\n",
    "    \n",
    "    # Add custom layers\n",
    "    x = base_model.output\n",
    "    x = GlobalAveragePooling2D()(x)\n",
    "    x = Dense(1024, activation='relu')(x)\n",
    "    predictions = Dense(1, activation='sigmoid')(x)\n",
    "    \n",
    "    model = Model(inputs=base_model.input, outputs=predictions)\n",
    "    \n",
    "    # Freeze base model layers\n",
    "    for layer in base_model.layers:\n",
    "        layer.trainable = False\n",
    "    \n",
    "    return model"
   ]
  },
  {
   "cell_type": "code",
   "execution_count": null,
   "metadata": {},
   "outputs": [],
   "source": [
    "def preprocess_image(image_path):\n",
    "    # Read and preprocess image\n",
    "    img = cv2.imread(image_path)\n",
    "    img = cv2.cvtColor(img, cv2.COLOR_BGR2RGB)\n",
    "    img = cv2.resize(img, (224, 224))\n",
    "    img = img / 255.0  # Normalize\n",
    "    return img"
   ]
  },
  {
   "cell_type": "code",
   "execution_count": null,
   "metadata": {},
   "outputs": [],
   "source": [
    "# Create model\n",
    "model = create_model()\n",
    "model.compile(optimizer='adam', loss='binary_crossentropy', metrics=['accuracy'])"
   ]
  },
  {
   "cell_type": "code",
   "execution_count": null,
   "metadata": {},
   "outputs": [],
   "source": [
    "# Upload and process image\n",
    "print(\"Please upload a satellite image\")\n",
    "uploaded = files.upload()\n",
    "\n",
    "for filename in uploaded.keys():\n",
    "    # Process image\n",
    "    img = preprocess_image(filename)\n",
    "    \n",
    "    # Make prediction\n",
    "    prediction = model.predict(np.expand_dims(img, axis=0))[0][0]\n",
    "    \n",
    "    # Display results\n",
    "    plt.figure(figsize=(10, 5))\n",
    "    plt.subplot(1, 2, 1)\n",
    "    plt.imshow(img)\n",
    "    plt.title('Input Image')\n",
    "    \n",
    "    plt.subplot(1, 2, 2)\n",
    "    plt.text(0.5, 0.5, f'Solar Panel Probability: {prediction:.2%}', \n",
    "             horizontalalignment='center', verticalalignment='center')\n",
    "    plt.axis('off')\n",
    "    plt.show()"
   ]
  },
  {
   "cell_type": "code",
   "execution_count": null,
   "metadata": {},
   "outputs": [],
   "source": [
    "# Cell 1: Add these imports if not already present\n",
    "from tensorflow.keras.layers import Conv2D"
   ]
  },
  {
   "cell_type": "code",
   "execution_count": null,
   "metadata": {},
   "outputs": [],
   "source": [
    "# Cell 2: Detection model creation\n",
    "def create_detection_model():\n",
    "    # Use ResNet50 as base model\n",
    "    base_model = ResNet50(weights='imagenet', include_top=False, input_shape=(416, 416, 3))\n",
    "    \n",
    "    # Add custom layers for detection\n",
    "    x = base_model.output\n",
    "    x = Conv2D(512, (3, 3), padding='same', activation='relu')(x)\n",
    "    x = Conv2D(256, (3, 3), padding='same', activation='relu')(x)\n",
    "    # Output: [confidence, x, y, width, height]\n",
    "    predictions = Conv2D(5, (1, 1), activation='sigmoid')(x)\n",
    "    \n",
    "    model = Model(inputs=base_model.input, outputs=predictions)\n",
    "    return model"
   ]
  },
  {
   "cell_type": "code",
   "execution_count": null,
   "metadata": {},
   "outputs": [],
   "source": [
    "# Cell 3: Image processing and detection functions\n",
    "def preprocess_image(image_path):\n",
    "    # Read and preprocess image\n",
    "    img = cv2.imread(image_path)\n",
    "    img = cv2.cvtColor(img, cv2.COLOR_BGR2RGB)\n",
    "    original_size = img.shape[:2]\n",
    "    img_resized = cv2.resize(img, (416, 416))\n",
    "    img_normalized = img_resized / 255.0\n",
    "    return img, img_normalized, original_size\n",
    "\n",
    "def detect_solar_panels(image_path, model, confidence_threshold=0.5):\n",
    "    # Load and preprocess image\n",
    "    original_img, processed_img, original_size = preprocess_image(image_path)\n",
    "    \n",
    "    # Get predictions\n",
    "    predictions = model.predict(np.expand_dims(processed_img, axis=0))[0]\n",
    "    \n",
    "    # Extract bounding boxes\n",
    "    boxes = []\n",
    "    for i in range(predictions.shape[0]):\n",
    "        for j in range(predictions.shape[1]):\n",
    "            confidence = predictions[i, j, 0]\n",
    "            if confidence > confidence_threshold:\n",
    "                # Get box coordinates\n",
    "                x = predictions[i, j, 1] * original_size[1]\n",
    "                y = predictions[i, j, 2] * original_size[0]\n",
    "                w = predictions[i, j, 3] * original_size[1]\n",
    "                h = predictions[i, j, 4] * original_size[0]\n",
    "                \n",
    "                boxes.append({\n",
    "                    'confidence': confidence,\n",
    "                    'x': int(x - w/2),\n",
    "                    'y': int(y - h/2),\n",
    "                    'w': int(w),\n",
    "                    'h': int(h)\n",
    "                })\n",
    "    \n",
    "    return original_img, boxes"
   ]
  },
  {
   "cell_type": "code",
   "execution_count": null,
   "metadata": {},
   "outputs": [],
   "source": [
    "# Cell 4: Visualization function\n",
    "def draw_boxes(image, boxes):\n",
    "    img_with_boxes = image.copy()\n",
    "    for box in boxes:\n",
    "        # Draw rectangle\n",
    "        cv2.rectangle(img_with_boxes, \n",
    "                     (box['x'], box['y']), \n",
    "                     (box['x'] + box['w'], box['y'] + box['h']),\n",
    "                     (0, 255, 0), 2)\n",
    "        \n",
    "        # Add confidence score\n",
    "        label = f\"{box['confidence']:.2f}\"\n",
    "        cv2.putText(img_with_boxes, label, \n",
    "                    (box['x'], box['y'] - 10),\n",
    "                    cv2.FONT_HERSHEY_SIMPLEX, 0.5, (0, 255, 0), 2)\n",
    "    \n",
    "    return img_with_boxes"
   ]
  }
 ],
 "metadata": {
  "kernelspec": {
   "display_name": "Python 3",
   "language": "python",
   "name": "python3"
  },
  "language_info": {
   "codemirror_mode": {
    "name": "ipython",
    "version": 3
   },
   "file_extension": ".py",
   "mimetype": "text/x-python",
   "name": "python",
   "nbconvert_exporter": "python",
   "pygments_lexer": "ipython3",
   "version": "3.8.0"
  }
 },
 "nbformat": 4,
 "nbformat_minor": 4
}
